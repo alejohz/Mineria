{
 "cells": [
  {
   "cell_type": "code",
   "execution_count": null,
   "metadata": {},
   "outputs": [],
   "source": []
  }
 ],
 "metadata": {
  "kernelspec": {
   "display_name": "Python 3.9.12 ('base')",
   "language": "python",
   "name": "python3"
  },
  "language_info": {
   "name": "python",
   "version": "3.9.12"
  },
  "orig_nbformat": 4,
  "vscode": {
   "interpreter": {
    "hash": "28677515f403876f32689c0a859a7b2cd9a6f5760c374a1344f4bc7f9e9f853e"
   }
  }
 },
 "nbformat": 4,
 "nbformat_minor": 2
}
