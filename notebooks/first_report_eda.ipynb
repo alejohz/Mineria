{
 "cells": [
  {
   "cell_type": "code",
   "execution_count": 3,
   "metadata": {},
   "outputs": [],
   "source": [
    "import pandas as pd"
   ]
  },
  {
   "cell_type": "code",
   "execution_count": 5,
   "metadata": {},
   "outputs": [],
   "source": [
    "df = pd.read_parquet(\"../data/tweets_small_sample.parquet\")"
   ]
  },
  {
   "cell_type": "code",
   "execution_count": 6,
   "metadata": {},
   "outputs": [
    {
     "data": {
      "text/plain": "the            78182\nukraine        43371\nto             41419\nof             39148\nwar            33015\nin             32341\nand            28373\na              22447\nis             21741\n#ukrainewar    20563\ndtype: int64"
     },
     "execution_count": 6,
     "metadata": {},
     "output_type": "execute_result"
    }
   ],
   "source": [
    "pd.Series(' '.join(df.full_text).lower().split()).value_counts()[:10]"
   ]
  },
  {
   "cell_type": "code",
   "execution_count": 9,
   "metadata": {},
   "outputs": [
    {
     "data": {
      "text/plain": "                           created_at                   id  \\\n0      Sat Sep 03 04:01:21 +0000 2022  1565912808931618816   \n1      Mon Sep 12 15:47:38 +0000 2022  1569352042635747333   \n2      Wed Sep 07 20:46:57 +0000 2022  1567615428142178309   \n3      Tue Sep 13 16:57:15 +0000 2022  1569731950046330882   \n4      Sun Sep 18 00:27:08 +0000 2022  1571294716418789377   \n...                               ...                  ...   \n79700  Thu Sep 08 08:39:57 +0000 2022  1567794861834633218   \n79701  Tue Sep 13 13:58:14 +0000 2022  1569686898200772610   \n79702  Sat Sep 10 17:00:50 +0000 2022  1568645689152012288   \n79703  Sat Sep 10 21:07:10 +0000 2022  1568707677307420673   \n79704  Fri Sep 09 21:31:45 +0000 2022  1568351479639207936   \n\n                                               full_text   geo coordinates  \\\n0      Read News Headlines of India today 3 September...  None        None   \n1      @WiseguySix Can’t wait for the Ukraine war re-...  None        None   \n2      @tv3_ghana @3SportsGh I pray Chelsea's sacking...  None        None   \n3      Ukraine war: Fears Putin poised for new ‘terro...  None        None   \n4      How PUTIN'S ARMY Is Wasting Money on Fake HIMA...  None        None   \n...                                                  ...   ...         ...   \n79700  @OneQuantumLeap We were being warned of energy...  None        None   \n79701  With the #Russian military invasion of #Ukrain...  None        None   \n79702  @War_Mapper Havin' a hard time to keep up, I a...  None        None   \n79703  Article Link: https://t.co/S8bDMECwvK \\nRussia...  None        None   \n79704  Alongside the Russo-Ukraine war there's rumbli...  None        None   \n\n       retweet_count  favorite_count  reply_count  quote_count  favorited  \\\n0                  1               1            0            0      False   \n1                  1               6            1            0      False   \n2                  0               1            0            0      False   \n3                  0               0            0            0      False   \n4                  0               0            0            0      False   \n...              ...             ...          ...          ...        ...   \n79700              7               8            1            1      False   \n79701              0               0            0            0      False   \n79702              0               0            0            0      False   \n79703              0               1            0            0      False   \n79704              0               3            1            0      False   \n\n       retweeted possibly_sensitive lang  \n0          False              False   en  \n1          False              False   en  \n2          False               None   en  \n3          False              False   en  \n4          False              False   en  \n...          ...                ...  ...  \n79700      False               None   en  \n79701      False              False   en  \n79702      False               None   en  \n79703      False              False   en  \n79704      False              False   en  \n\n[79705 rows x 13 columns]",
      "text/html": "<div>\n<style scoped>\n    .dataframe tbody tr th:only-of-type {\n        vertical-align: middle;\n    }\n\n    .dataframe tbody tr th {\n        vertical-align: top;\n    }\n\n    .dataframe thead th {\n        text-align: right;\n    }\n</style>\n<table border=\"1\" class=\"dataframe\">\n  <thead>\n    <tr style=\"text-align: right;\">\n      <th></th>\n      <th>created_at</th>\n      <th>id</th>\n      <th>full_text</th>\n      <th>geo</th>\n      <th>coordinates</th>\n      <th>retweet_count</th>\n      <th>favorite_count</th>\n      <th>reply_count</th>\n      <th>quote_count</th>\n      <th>favorited</th>\n      <th>retweeted</th>\n      <th>possibly_sensitive</th>\n      <th>lang</th>\n    </tr>\n  </thead>\n  <tbody>\n    <tr>\n      <th>0</th>\n      <td>Sat Sep 03 04:01:21 +0000 2022</td>\n      <td>1565912808931618816</td>\n      <td>Read News Headlines of India today 3 September...</td>\n      <td>None</td>\n      <td>None</td>\n      <td>1</td>\n      <td>1</td>\n      <td>0</td>\n      <td>0</td>\n      <td>False</td>\n      <td>False</td>\n      <td>False</td>\n      <td>en</td>\n    </tr>\n    <tr>\n      <th>1</th>\n      <td>Mon Sep 12 15:47:38 +0000 2022</td>\n      <td>1569352042635747333</td>\n      <td>@WiseguySix Can’t wait for the Ukraine war re-...</td>\n      <td>None</td>\n      <td>None</td>\n      <td>1</td>\n      <td>6</td>\n      <td>1</td>\n      <td>0</td>\n      <td>False</td>\n      <td>False</td>\n      <td>False</td>\n      <td>en</td>\n    </tr>\n    <tr>\n      <th>2</th>\n      <td>Wed Sep 07 20:46:57 +0000 2022</td>\n      <td>1567615428142178309</td>\n      <td>@tv3_ghana @3SportsGh I pray Chelsea's sacking...</td>\n      <td>None</td>\n      <td>None</td>\n      <td>0</td>\n      <td>1</td>\n      <td>0</td>\n      <td>0</td>\n      <td>False</td>\n      <td>False</td>\n      <td>None</td>\n      <td>en</td>\n    </tr>\n    <tr>\n      <th>3</th>\n      <td>Tue Sep 13 16:57:15 +0000 2022</td>\n      <td>1569731950046330882</td>\n      <td>Ukraine war: Fears Putin poised for new ‘terro...</td>\n      <td>None</td>\n      <td>None</td>\n      <td>0</td>\n      <td>0</td>\n      <td>0</td>\n      <td>0</td>\n      <td>False</td>\n      <td>False</td>\n      <td>False</td>\n      <td>en</td>\n    </tr>\n    <tr>\n      <th>4</th>\n      <td>Sun Sep 18 00:27:08 +0000 2022</td>\n      <td>1571294716418789377</td>\n      <td>How PUTIN'S ARMY Is Wasting Money on Fake HIMA...</td>\n      <td>None</td>\n      <td>None</td>\n      <td>0</td>\n      <td>0</td>\n      <td>0</td>\n      <td>0</td>\n      <td>False</td>\n      <td>False</td>\n      <td>False</td>\n      <td>en</td>\n    </tr>\n    <tr>\n      <th>...</th>\n      <td>...</td>\n      <td>...</td>\n      <td>...</td>\n      <td>...</td>\n      <td>...</td>\n      <td>...</td>\n      <td>...</td>\n      <td>...</td>\n      <td>...</td>\n      <td>...</td>\n      <td>...</td>\n      <td>...</td>\n      <td>...</td>\n    </tr>\n    <tr>\n      <th>79700</th>\n      <td>Thu Sep 08 08:39:57 +0000 2022</td>\n      <td>1567794861834633218</td>\n      <td>@OneQuantumLeap We were being warned of energy...</td>\n      <td>None</td>\n      <td>None</td>\n      <td>7</td>\n      <td>8</td>\n      <td>1</td>\n      <td>1</td>\n      <td>False</td>\n      <td>False</td>\n      <td>None</td>\n      <td>en</td>\n    </tr>\n    <tr>\n      <th>79701</th>\n      <td>Tue Sep 13 13:58:14 +0000 2022</td>\n      <td>1569686898200772610</td>\n      <td>With the #Russian military invasion of #Ukrain...</td>\n      <td>None</td>\n      <td>None</td>\n      <td>0</td>\n      <td>0</td>\n      <td>0</td>\n      <td>0</td>\n      <td>False</td>\n      <td>False</td>\n      <td>False</td>\n      <td>en</td>\n    </tr>\n    <tr>\n      <th>79702</th>\n      <td>Sat Sep 10 17:00:50 +0000 2022</td>\n      <td>1568645689152012288</td>\n      <td>@War_Mapper Havin' a hard time to keep up, I a...</td>\n      <td>None</td>\n      <td>None</td>\n      <td>0</td>\n      <td>0</td>\n      <td>0</td>\n      <td>0</td>\n      <td>False</td>\n      <td>False</td>\n      <td>None</td>\n      <td>en</td>\n    </tr>\n    <tr>\n      <th>79703</th>\n      <td>Sat Sep 10 21:07:10 +0000 2022</td>\n      <td>1568707677307420673</td>\n      <td>Article Link: https://t.co/S8bDMECwvK \\nRussia...</td>\n      <td>None</td>\n      <td>None</td>\n      <td>0</td>\n      <td>1</td>\n      <td>0</td>\n      <td>0</td>\n      <td>False</td>\n      <td>False</td>\n      <td>False</td>\n      <td>en</td>\n    </tr>\n    <tr>\n      <th>79704</th>\n      <td>Fri Sep 09 21:31:45 +0000 2022</td>\n      <td>1568351479639207936</td>\n      <td>Alongside the Russo-Ukraine war there's rumbli...</td>\n      <td>None</td>\n      <td>None</td>\n      <td>0</td>\n      <td>3</td>\n      <td>1</td>\n      <td>0</td>\n      <td>False</td>\n      <td>False</td>\n      <td>False</td>\n      <td>en</td>\n    </tr>\n  </tbody>\n</table>\n<p>79705 rows × 13 columns</p>\n</div>"
     },
     "execution_count": 9,
     "metadata": {},
     "output_type": "execute_result"
    }
   ],
   "source": [
    "df"
   ]
  },
  {
   "cell_type": "code",
   "execution_count": 13,
   "outputs": [],
   "source": [
    "df = df.astype({'created_at': 'datetime64[s]'})"
   ],
   "metadata": {
    "collapsed": false
   }
  },
  {
   "cell_type": "code",
   "execution_count": 14,
   "outputs": [
    {
     "data": {
      "text/plain": "created_at            datetime64[ns]\nid                             int64\nfull_text                     object\ngeo                           object\ncoordinates                   object\nretweet_count                  int64\nfavorite_count                 int64\nreply_count                    int64\nquote_count                    int64\nfavorited                       bool\nretweeted                       bool\npossibly_sensitive            object\nlang                          object\ndtype: object"
     },
     "execution_count": 14,
     "metadata": {},
     "output_type": "execute_result"
    }
   ],
   "source": [
    "df.dtypes"
   ],
   "metadata": {
    "collapsed": false
   }
  },
  {
   "cell_type": "code",
   "execution_count": 16,
   "outputs": [
    {
     "data": {
      "text/plain": "created_at            79705\nid                    79705\nfull_text             79705\ngeo                       9\ncoordinates               9\nretweet_count         79705\nfavorite_count        79705\nreply_count           79705\nquote_count           79705\nfavorited             79705\nretweeted             79705\npossibly_sensitive    50758\nlang                  79705\ndtype: int64"
     },
     "execution_count": 16,
     "metadata": {},
     "output_type": "execute_result"
    }
   ],
   "source": [
    "df.count()"
   ],
   "metadata": {
    "collapsed": false
   }
  },
  {
   "cell_type": "code",
   "execution_count": 15,
   "outputs": [],
   "source": [
    "# df.to_parquet('data/tweets_small_sample.parquet', index=False)"
   ],
   "metadata": {
    "collapsed": false
   }
  }
 ],
 "metadata": {
  "kernelspec": {
   "display_name": "Python 3.10.4 ('mineria-env')",
   "language": "python",
   "name": "python3"
  },
  "language_info": {
   "codemirror_mode": {
    "name": "ipython",
    "version": 3
   },
   "file_extension": ".py",
   "mimetype": "text/x-python",
   "name": "python",
   "nbconvert_exporter": "python",
   "pygments_lexer": "ipython3",
   "version": "3.10.4"
  },
  "orig_nbformat": 4,
  "vscode": {
   "interpreter": {
    "hash": "eeede23745af28c7451b9be4ffc9b6af6bb87090e18ce2d9f28f4e00d378b601"
   }
  }
 },
 "nbformat": 4,
 "nbformat_minor": 2
}
